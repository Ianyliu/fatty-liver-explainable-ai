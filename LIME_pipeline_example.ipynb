{
 "cells": [
  {
   "cell_type": "code",
   "execution_count": 1,
   "metadata": {},
   "outputs": [
    {
     "name": "stderr",
     "output_type": "stream",
     "text": [
      "Intel(R) Extension for Scikit-learn* enabled (https://github.com/intel/scikit-learn-intelex)\n"
     ]
    },
    {
     "name": "stdout",
     "output_type": "stream",
     "text": [
      "2.1.0+cu121\n",
      "0.16.0+cu121\n"
     ]
    }
   ],
   "source": [
    "# %load_ext autoreload\n",
    "# %aimport LIME_pipeline\n",
    "\n",
    "from lime_custom_explainer.LIME_pipeline import LIME_pipeline"
   ]
  },
  {
   "cell_type": "code",
   "execution_count": 2,
   "metadata": {},
   "outputs": [
    {
     "name": "stdout",
     "output_type": "stream",
     "text": [
      "There are 22062 subjects in the meta data list.\n",
      "There are 890 subjects in the test dataset09.\n"
     ]
    }
   ],
   "source": [
    "LIME_pipeline_test = LIME_pipeline(test_data_id='09',\n",
    "                                   result_dir='/home/liuusa_tw/twbabd_image_xai_20062024/lime_test_results',\n",
    "                                   test_data_dir=\"/home/liuusa_tw/data/cropped_images/\",\n",
    "                                   )"
   ]
  },
  {
   "cell_type": "code",
   "execution_count": null,
   "metadata": {},
   "outputs": [],
   "source": [
    "LIME_pipeline_test.monte_carlo_adaptive_prediction_on_test_sets(num_samples=1000)"
   ]
  },
  {
   "cell_type": "code",
   "execution_count": null,
   "metadata": {},
   "outputs": [
    {
     "name": "stdout",
     "output_type": "stream",
     "text": [
      "Combination size: 1\n",
      "Original combinations:\n",
      "[(1,), (2,), (3,), (7,), (9,), (11,), (13,)]\n",
      "Checking combination: (1,)\n",
      "Checking combination: (2,)\n",
      "Removed (2,) (contains even number)\n",
      "Checking combination: (3,)\n",
      "Checking combination: (7,)\n",
      "Checking combination: (9,)\n",
      "Checking combination: (11,)\n",
      "Checking combination: (13,)\n",
      "Updated set of numbers:\n",
      "{1, 3, 7, 9, 11, 13}\n",
      "\n",
      "\n",
      "Combination size: 2\n",
      "Original combinations:\n",
      "[(1, 3), (1, 7), (1, 9), (1, 11), (1, 13), (3, 7), (3, 9), (3, 11), (3, 13), (7, 9), (7, 11), (7, 13), (9, 11), (9, 13), (11, 13)]\n",
      "Checking combination: (1, 3)\n",
      "Checking combination: (1, 7)\n",
      "Checking combination: (1, 9)\n",
      "Checking combination: (1, 11)\n",
      "Checking combination: (1, 13)\n",
      "Checking combination: (3, 7)\n",
      "Checking combination: (3, 9)\n",
      "Checking combination: (3, 11)\n",
      "Checking combination: (3, 13)\n",
      "Checking combination: (7, 9)\n",
      "Checking combination: (7, 11)\n",
      "Checking combination: (7, 13)\n",
      "Checking combination: (9, 11)\n",
      "Checking combination: (9, 13)\n",
      "Checking combination: (11, 13)\n",
      "Updated set of numbers:\n",
      "{1, 3, 7, 9, 11, 13}\n",
      "\n",
      "\n",
      "Combination size: 3\n",
      "Original combinations:\n",
      "[(1, 3, 7), (1, 3, 9), (1, 3, 11), (1, 3, 13), (1, 7, 9), (1, 7, 11), (1, 7, 13), (1, 9, 11), (1, 9, 13), (1, 11, 13), (3, 7, 9), (3, 7, 11), (3, 7, 13), (3, 9, 11), (3, 9, 13), (3, 11, 13), (7, 9, 11), (7, 9, 13), (7, 11, 13), (9, 11, 13)]\n",
      "Checking combination: (1, 3, 7)\n",
      "Checking combination: (1, 3, 9)\n",
      "Checking combination: (1, 3, 11)\n",
      "Checking combination: (1, 3, 13)\n",
      "Checking combination: (1, 7, 9)\n",
      "Checking combination: (1, 7, 11)\n",
      "Checking combination: (1, 7, 13)\n",
      "Checking combination: (1, 9, 11)\n",
      "Checking combination: (1, 9, 13)\n",
      "Checking combination: (1, 11, 13)\n",
      "Checking combination: (3, 7, 9)\n",
      "Checking combination: (3, 7, 11)\n",
      "Checking combination: (3, 7, 13)\n",
      "Checking combination: (3, 9, 11)\n",
      "Checking combination: (3, 9, 13)\n",
      "Checking combination: (3, 11, 13)\n",
      "Checking combination: (7, 9, 11)\n",
      "Checking combination: (7, 9, 13)\n",
      "Checking combination: (7, 11, 13)\n",
      "Checking combination: (9, 11, 13)\n",
      "Updated set of numbers:\n",
      "{1, 3, 7, 9, 11, 13}\n",
      "\n",
      "\n",
      "Combination size: 4\n",
      "Original combinations:\n",
      "[(1, 3, 7, 9), (1, 3, 7, 11), (1, 3, 7, 13), (1, 3, 9, 11), (1, 3, 9, 13), (1, 3, 11, 13), (1, 7, 9, 11), (1, 7, 9, 13), (1, 7, 11, 13), (1, 9, 11, 13), (3, 7, 9, 11), (3, 7, 9, 13), (3, 7, 11, 13), (3, 9, 11, 13), (7, 9, 11, 13)]\n",
      "Checking combination: (1, 3, 7, 9)\n",
      "Checking combination: (1, 3, 7, 11)\n",
      "Checking combination: (1, 3, 7, 13)\n",
      "Checking combination: (1, 3, 9, 11)\n",
      "Checking combination: (1, 3, 9, 13)\n",
      "Checking combination: (1, 3, 11, 13)\n",
      "Checking combination: (1, 7, 9, 11)\n",
      "Checking combination: (1, 7, 9, 13)\n",
      "Checking combination: (1, 7, 11, 13)\n",
      "Checking combination: (1, 9, 11, 13)\n",
      "Checking combination: (3, 7, 9, 11)\n",
      "Checking combination: (3, 7, 9, 13)\n",
      "Checking combination: (3, 7, 11, 13)\n",
      "Checking combination: (3, 9, 11, 13)\n",
      "Checking combination: (7, 9, 11, 13)\n",
      "Updated set of numbers:\n",
      "{1, 3, 7, 9, 11, 13}\n",
      "\n",
      "\n",
      "Combination size: 5\n",
      "Original combinations:\n",
      "[(1, 3, 7, 9, 11), (1, 3, 7, 9, 13), (1, 3, 7, 11, 13), (1, 3, 9, 11, 13), (1, 7, 9, 11, 13), (3, 7, 9, 11, 13)]\n",
      "Checking combination: (1, 3, 7, 9, 11)\n",
      "Checking combination: (1, 3, 7, 9, 13)\n",
      "Checking combination: (1, 3, 7, 11, 13)\n",
      "Checking combination: (1, 3, 9, 11, 13)\n",
      "Checking combination: (1, 7, 9, 11, 13)\n",
      "Checking combination: (3, 7, 9, 11, 13)\n",
      "Updated set of numbers:\n",
      "{1, 3, 7, 9, 11, 13}\n",
      "\n",
      "\n",
      "Combination size: 6\n",
      "Original combinations:\n",
      "[(1, 3, 7, 9, 11, 13)]\n",
      "Checking combination: (1, 3, 7, 9, 11, 13)\n",
      "Updated set of numbers:\n",
      "{1, 3, 7, 9, 11, 13}\n",
      "\n",
      "\n",
      "Combination size: 7\n",
      "Original combinations:\n",
      "[]\n",
      "Updated set of numbers:\n",
      "set()\n",
      "\n",
      "\n",
      "No more elements left. Stopping.\n"
     ]
    }
   ],
   "source": [
    "import itertools\n",
    "\n",
    "def flatten(lst):\n",
    "    return set(item for sublist in lst for item in sublist)\n",
    "\n",
    "test = {1, 2, 3, 7, 9, 11, 13}\n",
    "for i in range(1, len(test) + 1):\n",
    "    combinations = list(itertools.combinations(test, i))\n",
    "    new_combinations = combinations.copy()\n",
    "    print(f\"Combination size: {i}\")\n",
    "    print('Original combinations:')\n",
    "    print(combinations)\n",
    "    \n",
    "    for combo in combinations:\n",
    "        print(f\"Checking combination: {combo}\")\n",
    "        if any(num % 2 == 0 for num in combo):\n",
    "            new_combinations.remove(combo)\n",
    "            print(f\"Removed {combo} (contains even number)\")\n",
    "    \n",
    "    test = flatten(new_combinations)\n",
    "    print(\"Updated set of numbers:\")\n",
    "    print(test)\n",
    "    print(\"\\n\")\n",
    "    \n",
    "    if not test:\n",
    "        print(\"No more elements left. Stopping.\")\n",
    "        break"
   ]
  },
  {
   "cell_type": "code",
   "execution_count": 4,
   "metadata": {},
   "outputs": [
    {
     "ename": "AttributeError",
     "evalue": "'LIME_pipeline' object has no attribute 'mc_test_sets'",
     "output_type": "error",
     "traceback": [
      "\u001b[0;31m---------------------------------------------------------------------------\u001b[0m",
      "\u001b[0;31mAttributeError\u001b[0m                            Traceback (most recent call last)",
      "Cell \u001b[0;32mIn[4], line 1\u001b[0m\n\u001b[0;32m----> 1\u001b[0m \u001b[38;5;28;01mfor\u001b[39;00m i \u001b[38;5;129;01min\u001b[39;00m \u001b[43mLIME_pipeline_test\u001b[49m\u001b[38;5;241;43m.\u001b[39;49m\u001b[43mmc_test_sets\u001b[49m:\n\u001b[1;32m      2\u001b[0m     \u001b[38;5;28mprint\u001b[39m(i)\n",
      "\u001b[0;31mAttributeError\u001b[0m: 'LIME_pipeline' object has no attribute 'mc_test_sets'"
     ]
    }
   ],
   "source": [
    "for i in LIME_pipeline_test.mc_test_sets:\n",
    "    print(i)"
   ]
  },
  {
   "cell_type": "code",
   "execution_count": 10,
   "metadata": {},
   "outputs": [
    {
     "name": "stdout",
     "output_type": "stream",
     "text": [
      "25\n",
      "33554431\n"
     ]
    }
   ],
   "source": [
    "# import ast\n",
    "# temp = LIME_pipeline_test.test_data_list[:1]\n",
    "# # print(temp)\n",
    "# mi_id = LIME_pipeline_test.test_data_list['MI_ID'][0]\n",
    "# img_id_list = ast.literal_eval(\n",
    "#                 LIME_pipeline_test.meta_data[LIME_pipeline_test.meta_data['MI_ID'] == mi_id]['IMG_ID_LIST'].to_list()[0])\n",
    "# print(len(img_id_list))\n",
    "# print(2 ** len(img_id_list)- 1) "
   ]
  },
  {
   "cell_type": "code",
   "execution_count": 26,
   "metadata": {},
   "outputs": [
    {
     "name": "stdout",
     "output_type": "stream",
     "text": [
      "1\n",
      "test\n",
      "{(2,), (11,), (1,), (7,), (13,), (3,), (9,)}\n",
      "new_test\n",
      "{(1,), (7,), (2,), (11,), (13,), (3,), (9,)}\n",
      "(2,)\n",
      "True\n",
      "(11,)\n",
      "False\n",
      "(1,)\n",
      "False\n",
      "(7,)\n",
      "False\n",
      "(13,)\n",
      "False\n",
      "(3,)\n",
      "False\n",
      "(9,)\n",
      "False\n",
      "test updated \n",
      "{(1,), (7,), (11,), (13,), (3,), (9,)}\n",
      "2\n",
      "test\n",
      "{((11,), (9,)), ((1,), (3,)), ((11,), (13,)), ((1,), (7,)), ((1,), (9,)), ((1,), (11,)), ((1,), (13,)), ((7,), (3,)), ((7,), (9,)), ((11,), (3,)), ((13,), (3,)), ((3,), (9,)), ((7,), (11,)), ((13,), (9,)), ((7,), (13,))}\n",
      "new_test\n",
      "{((11,), (9,)), ((1,), (3,)), ((11,), (13,)), ((1,), (7,)), ((1,), (9,)), ((1,), (11,)), ((1,), (13,)), ((7,), (3,)), ((7,), (9,)), ((11,), (3,)), ((13,), (3,)), ((3,), (9,)), ((7,), (11,)), ((13,), (9,)), ((7,), (13,))}\n",
      "((11,), (9,))\n"
     ]
    },
    {
     "ename": "TypeError",
     "evalue": "unsupported operand type(s) for %: 'tuple' and 'int'",
     "output_type": "error",
     "traceback": [
      "\u001b[0;31m---------------------------------------------------------------------------\u001b[0m",
      "\u001b[0;31mTypeError\u001b[0m                                 Traceback (most recent call last)",
      "Cell \u001b[0;32mIn[26], line 14\u001b[0m\n\u001b[1;32m     12\u001b[0m \u001b[38;5;28;01mfor\u001b[39;00m j \u001b[38;5;129;01min\u001b[39;00m test:\n\u001b[1;32m     13\u001b[0m     \u001b[38;5;28mprint\u001b[39m(j)\n\u001b[0;32m---> 14\u001b[0m     \u001b[38;5;28mprint\u001b[39m(\u001b[43mj\u001b[49m\u001b[43m[\u001b[49m\u001b[38;5;241;43m0\u001b[39;49m\u001b[43m]\u001b[49m\u001b[38;5;241;43m%\u001b[39;49m\u001b[38;5;241;43m2\u001b[39;49m \u001b[38;5;241m==\u001b[39m \u001b[38;5;241m0\u001b[39m)\n\u001b[1;32m     15\u001b[0m     \u001b[38;5;28;01mif\u001b[39;00m j[\u001b[38;5;241m0\u001b[39m] \u001b[38;5;241m%\u001b[39m\u001b[38;5;241m2\u001b[39m \u001b[38;5;241m==\u001b[39m\u001b[38;5;241m0\u001b[39m:\n\u001b[1;32m     16\u001b[0m         new_test\u001b[38;5;241m.\u001b[39mremove(j)\n",
      "\u001b[0;31mTypeError\u001b[0m: unsupported operand type(s) for %: 'tuple' and 'int'"
     ]
    }
   ],
   "source": [
    "import itertools\n",
    "test = {1,2,3, 7, 9, 11, 13,}\n",
    "for i in range(1, len(test)+1):\n",
    "    test = set(itertools.combinations(test, i))\n",
    "    new_test = test.copy()\n",
    "    print(i)\n",
    "    print('test')\n",
    "    print(test)\n",
    "    print('new_test')\n",
    "    print(new_test)\n",
    "    \n",
    "    for j in test:\n",
    "        print(j)\n",
    "        print(j[0]%2 == 0)\n",
    "        if j[0] %2 == 0:\n",
    "            new_test.remove(j)\n",
    "            \n",
    "    # print(i%2==0)\n",
    "    test = new_test\n",
    "    print(\"test updated \")\n",
    "    print(test)\n",
    "    "
   ]
  },
  {
   "cell_type": "code",
   "execution_count": 2,
   "metadata": {},
   "outputs": [
    {
     "name": "stdout",
     "output_type": "stream",
     "text": [
      "There are 22062 subjects in the meta data list.\n",
      "There are 890 subjects in the test dataset09.\n"
     ]
    },
    {
     "name": "stderr",
     "output_type": "stream",
     "text": [
      "100%|██████████| 890/890 [01:49<00:00,  8.14it/s]\n"
     ]
    },
    {
     "name": "stdout",
     "output_type": "stream",
     "text": [
      "Accuracy is 0.9618.\n",
      "[[429  16]\n",
      " [ 18 427]] (2, 2)\n",
      "There were 427 true positives, 429 true negatives, 16 false positives, 18 false negatives.\n",
      "Overwriting previous prediction results for 09, /home/liuusa_tw/twbabd_image_xai_20062024/lime_test_results/pred_results09.csv was last modified at 1719390087.2393434\n",
      "Predictions saved to /home/liuusa_tw/twbabd_image_xai_20062024/lime_test_results/pred_results09.csv\n"
     ]
    }
   ],
   "source": [
    "LIME_pipeline_test.predict_on_test()"
   ]
  },
  {
   "cell_type": "code",
   "execution_count": null,
   "metadata": {},
   "outputs": [],
   "source": [
    "LIME_pipeline_test.explain_tps()"
   ]
  }
 ],
 "metadata": {
  "kernelspec": {
   "display_name": "xai",
   "language": "python",
   "name": "python3"
  },
  "language_info": {
   "codemirror_mode": {
    "name": "ipython",
    "version": 3
   },
   "file_extension": ".py",
   "mimetype": "text/x-python",
   "name": "python",
   "nbconvert_exporter": "python",
   "pygments_lexer": "ipython3",
   "version": "3.9.12"
  }
 },
 "nbformat": 4,
 "nbformat_minor": 2
}
